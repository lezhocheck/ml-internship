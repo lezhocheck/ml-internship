{
 "cells": [
  {
   "cell_type": "code",
   "execution_count": 1,
   "metadata": {},
   "outputs": [
    {
     "name": "stderr",
     "output_type": "stream",
     "text": [
      "2023-05-20 09:20:24.081833: I tensorflow/core/platform/cpu_feature_guard.cc:193] This TensorFlow binary is optimized with oneAPI Deep Neural Network Library (oneDNN) to use the following CPU instructions in performance-critical operations:  SSE4.1 SSE4.2\n",
      "To enable them in other operations, rebuild TensorFlow with the appropriate compiler flags.\n",
      "/Users/lezhocheck/opt/anaconda3/envs/py3tf2/lib/python3.10/site-packages/tqdm/auto.py:21: TqdmWarning: IProgress not found. Please update jupyter and ipywidgets. See https://ipywidgets.readthedocs.io/en/stable/user_install.html\n",
      "  from .autonotebook import tqdm as notebook_tqdm\n"
     ]
    }
   ],
   "source": [
    "import tensorflow as tf\n",
    "import tensorflow_datasets as tfds\n",
    "import matplotlib.pyplot as plt\n",
    "import numpy as np"
   ]
  },
  {
   "attachments": {},
   "cell_type": "markdown",
   "metadata": {},
   "source": [
    "#### EMNIST dataset is used for training the model that recognizes handwritten VIN-code characters.\n",
    "##### It is one of the best options to choose for training, because it is enough big and very suitable for this kind of problem"
   ]
  },
  {
   "cell_type": "code",
   "execution_count": 2,
   "metadata": {},
   "outputs": [
    {
     "name": "stdout",
     "output_type": "stream",
     "text": [
      "tfds.core.DatasetInfo(\n",
      "    name='emnist',\n",
      "    full_name='emnist/byclass/3.0.0',\n",
      "    description=\"\"\"\n",
      "    The EMNIST dataset is a set of handwritten character digits derived from the NIST Special Database 19 and converted to a 28x28 pixel image format and dataset structure that directly matches the MNIST dataset.\n",
      "    \n",
      "    Note: Like the original EMNIST data, images provided here are inverted horizontally and rotated 90 anti-clockwise. You can use `tf.transpose` within `ds.map` to convert the images to a human-friendlier format.\n",
      "    \"\"\",\n",
      "    config_description=\"\"\"\n",
      "    EMNIST ByClass\n",
      "    \"\"\",\n",
      "    homepage='https://www.nist.gov/itl/products-and-services/emnist-dataset',\n",
      "    data_path='/Users/lezhocheck/tensorflow_datasets/emnist/byclass/3.0.0',\n",
      "    file_format=tfrecord,\n",
      "    download_size=535.73 MiB,\n",
      "    dataset_size=349.16 MiB,\n",
      "    features=FeaturesDict({\n",
      "        'image': Image(shape=(28, 28, 1), dtype=uint8),\n",
      "        'label': ClassLabel(shape=(), dtype=int64, num_classes=62),\n",
      "    }),\n",
      "    supervised_keys=('image', 'label'),\n",
      "    disable_shuffling=False,\n",
      "    splits={\n",
      "        'test': <SplitInfo num_examples=116323, num_shards=1>,\n",
      "        'train': <SplitInfo num_examples=697932, num_shards=4>,\n",
      "    },\n",
      "    citation=\"\"\"@article{cohen_afshar_tapson_schaik_2017,\n",
      "        title={EMNIST: Extending MNIST to handwritten letters},\n",
      "        DOI={10.1109/ijcnn.2017.7966217},\n",
      "        journal={2017 International Joint Conference on Neural Networks (IJCNN)},\n",
      "        author={Cohen, Gregory and Afshar, Saeed and Tapson, Jonathan and Schaik, Andre Van},\n",
      "        year={2017}\n",
      "    }\"\"\",\n",
      ")\n"
     ]
    },
    {
     "name": "stderr",
     "output_type": "stream",
     "text": [
      "2023-05-20 09:20:27.043546: I tensorflow/core/platform/cpu_feature_guard.cc:193] This TensorFlow binary is optimized with oneAPI Deep Neural Network Library (oneDNN) to use the following CPU instructions in performance-critical operations:  SSE4.1 SSE4.2\n",
      "To enable them in other operations, rebuild TensorFlow with the appropriate compiler flags.\n"
     ]
    }
   ],
   "source": [
    "emnist, info = tfds.load('emnist', with_info=True, as_supervised=True)\n",
    "emnist_train, emnist_test = emnist['train'], emnist['test']\n",
    "\n",
    "print(info)"
   ]
  },
  {
   "cell_type": "code",
   "execution_count": 3,
   "metadata": {},
   "outputs": [
    {
     "name": "stdout",
     "output_type": "stream",
     "text": [
      "Number of classes: 62\n"
     ]
    }
   ],
   "source": [
    "NUM_VALIDATION = int(0.1 * len(emnist_train))\n",
    "BUFFER_SIZE = 10000\n",
    "BATCH_SIZE = 1000\n",
    "OUTPUT_SIZE = info.features['label'].num_classes\n",
    "NUM_EPOCHS = 12\n",
    "\n",
    "print(f'Number of classes: {OUTPUT_SIZE}')\n"
   ]
  },
  {
   "attachments": {},
   "cell_type": "markdown",
   "metadata": {},
   "source": [
    "The datset contains handwritten digits, uppercase letters and lowercase letters. VIN contains only uppercase letters and digits, but some letters can be written as lowercase, so it is better to classify them as lowercase letters and then convert them to uppercase if necessary."
   ]
  },
  {
   "cell_type": "code",
   "execution_count": 4,
   "metadata": {},
   "outputs": [],
   "source": [
    "# Let's scale grayscale image to bound it pixel values between 0..1\n",
    "def scale(image, label):\n",
    "    image = tf.cast(image, tf.float32)\n",
    "    return image / 255., label\n",
    "\n",
    "scaled_train_validation_data = emnist_train.map(scale)\n",
    "scaled_test_data = emnist_test.map(scale)"
   ]
  },
  {
   "cell_type": "code",
   "execution_count": 5,
   "metadata": {},
   "outputs": [],
   "source": [
    "# Shuffling data and creating a validation dataset to prevent overfitting during training\n",
    "shuffled_scaled_train_validation_data = scaled_train_validation_data.shuffle(BUFFER_SIZE)\n",
    "shuffled_test_data = scaled_test_data.shuffle(BUFFER_SIZE)\n",
    "\n",
    "validation_data = shuffled_scaled_train_validation_data.take(NUM_VALIDATION)\n",
    "train_data = shuffled_scaled_train_validation_data.skip(NUM_VALIDATION)"
   ]
  },
  {
   "cell_type": "code",
   "execution_count": 6,
   "metadata": {},
   "outputs": [],
   "source": [
    "# Batching samples\n",
    "batched_train_data = train_data.batch(BATCH_SIZE)\n",
    "batched_validation_data = validation_data.batch(NUM_VALIDATION)\n",
    "batched_test_data = shuffled_test_data.batch(len(shuffled_test_data))"
   ]
  },
  {
   "cell_type": "code",
   "execution_count": 42,
   "metadata": {},
   "outputs": [
    {
     "data": {
      "image/png": "[encoded data removed]",
      "text/plain": [
       "<Figure size 1700x1100 with 5 Axes>"
      ]
     },
     "metadata": {},
     "output_type": "display_data"
    }
   ],
   "source": [
    "# Convert targets to actual character values\n",
    "def to_chr(label):\n",
    "    if label < 10:\n",
    "        return str(label)\n",
    "    elif label < 36:\n",
    "        return chr(label + 55)\n",
    "    return chr(label + 61)\n",
    "\n",
    "# Let's display some of the dataset entries\n",
    "def show_one(img, label, ax):\n",
    "    img = np.fliplr(img)\n",
    "    img = np.rot90(img, k=1)\n",
    "    ax.imshow(img, cmap='gray')\n",
    "    ax.text(0.05, 1, f'label: {to_chr(label)}', fontsize=14, color='red')\n",
    "    ax.axis('off')\n",
    "\n",
    "\n",
    "display_count = 5\n",
    "fig, axs = plt.subplots(1, display_count, figsize=(17, 11))\n",
    "for ind, value in enumerate(train_data.take(display_count)):\n",
    "    img, label = value[0].numpy(), value[1].numpy()\n",
    "    show_one(img, label, axs[ind])\n",
    "plt.show()"
   ]
  },
  {
   "cell_type": "code",
   "execution_count": 8,
   "metadata": {},
   "outputs": [],
   "source": [
    "validation_inputs, validation_targets = next(iter(batched_validation_data))"
   ]
  },
  {
   "cell_type": "code",
   "execution_count": 9,
   "metadata": {},
   "outputs": [],
   "source": [
    "model = tf.keras.models.Sequential([\n",
    "    tf.keras.layers.Flatten(input_shape=(28, 28, 1)),\n",
    "    tf.keras.layers.Dense(256, activation='relu'),\n",
    "    tf.keras.layers.Dense(256, activation='relu'),\n",
    "    tf.keras.layers.Dense(128, activation='relu'),\n",
    "    tf.keras.layers.Dense(OUTPUT_SIZE, activation='softmax')\n",
    "])"
   ]
  },
  {
   "cell_type": "code",
   "execution_count": 10,
   "metadata": {},
   "outputs": [],
   "source": [
    "# Compile the model with adam optimizer and \n",
    "# sparse_categorical_crossentropy loss function \n",
    "# (we have categorical targets that are not one-hot encoded)\n",
    "model.compile(optimizer='adam', \n",
    "              loss='sparse_categorical_crossentropy', \n",
    "              metrics=['accuracy'])"
   ]
  },
  {
   "cell_type": "code",
   "execution_count": 11,
   "metadata": {},
   "outputs": [
    {
     "name": "stdout",
     "output_type": "stream",
     "text": [
      "Epoch 1/12\n",
      "629/629 - 22s - loss: 0.8467 - accuracy: 0.7515 - val_loss: 0.5798 - val_accuracy: 0.8091 - 22s/epoch - 36ms/step\n",
      "Epoch 2/12\n",
      "629/629 - 22s - loss: 0.5177 - accuracy: 0.8255 - val_loss: 0.5007 - val_accuracy: 0.8304 - 22s/epoch - 35ms/step\n",
      "Epoch 3/12\n",
      "629/629 - 22s - loss: 0.4667 - accuracy: 0.8381 - val_loss: 0.4655 - val_accuracy: 0.8409 - 22s/epoch - 35ms/step\n",
      "Epoch 4/12\n",
      "629/629 - 22s - loss: 0.4393 - accuracy: 0.8448 - val_loss: 0.4545 - val_accuracy: 0.8427 - 22s/epoch - 35ms/step\n",
      "Epoch 5/12\n",
      "629/629 - 22s - loss: 0.4201 - accuracy: 0.8498 - val_loss: 0.4446 - val_accuracy: 0.8444 - 22s/epoch - 35ms/step\n",
      "Epoch 6/12\n",
      "629/629 - 22s - loss: 0.4058 - accuracy: 0.8534 - val_loss: 0.4396 - val_accuracy: 0.8466 - 22s/epoch - 35ms/step\n",
      "Epoch 7/12\n",
      "629/629 - 22s - loss: 0.3942 - accuracy: 0.8563 - val_loss: 0.4309 - val_accuracy: 0.8499 - 22s/epoch - 35ms/step\n",
      "Epoch 8/12\n",
      "629/629 - 22s - loss: 0.3837 - accuracy: 0.8595 - val_loss: 0.4268 - val_accuracy: 0.8504 - 22s/epoch - 35ms/step\n",
      "Epoch 9/12\n",
      "629/629 - 22s - loss: 0.3756 - accuracy: 0.8613 - val_loss: 0.4265 - val_accuracy: 0.8509 - 22s/epoch - 35ms/step\n",
      "Epoch 10/12\n",
      "629/629 - 22s - loss: 0.3678 - accuracy: 0.8637 - val_loss: 0.4272 - val_accuracy: 0.8512 - 22s/epoch - 35ms/step\n",
      "Epoch 11/12\n",
      "629/629 - 22s - loss: 0.3613 - accuracy: 0.8650 - val_loss: 0.4253 - val_accuracy: 0.8529 - 22s/epoch - 35ms/step\n",
      "Epoch 12/12\n",
      "629/629 - 22s - loss: 0.3542 - accuracy: 0.8673 - val_loss: 0.4264 - val_accuracy: 0.8511 - 22s/epoch - 35ms/step\n"
     ]
    },
    {
     "data": {
      "text/plain": [
       "<keras.callbacks.History at 0x7fc15054d660>"
      ]
     },
     "execution_count": 11,
     "metadata": {},
     "output_type": "execute_result"
    }
   ],
   "source": [
    "# Adding early stopping to prevent possible overfitting\n",
    "early_stopping = tf.keras.callbacks.EarlyStopping(monitor='val_loss', patience=3, verbose=1)\n",
    "\n",
    "model.fit(batched_train_data, epochs=NUM_EPOCHS, verbose=2, \n",
    "          batch_size=BATCH_SIZE,\n",
    "          validation_data=(validation_inputs, validation_targets),\n",
    "          callbacks=[early_stopping])"
   ]
  },
  {
   "attachments": {},
   "cell_type": "markdown",
   "metadata": {},
   "source": [
    "Training finished with the accuracy 0.86 and validation accuracy 0.85. Let's check model performance on the test dataset."
   ]
  },
  {
   "cell_type": "code",
   "execution_count": 12,
   "metadata": {},
   "outputs": [
    {
     "name": "stdout",
     "output_type": "stream",
     "text": [
      "1/1 [==============================] - 4s 4s/step - loss: 0.4284 - accuracy: 0.8501\n",
      "Test loss: 0.4284268021583557\n",
      "Test accuracy: 0.8500898480415344\n"
     ]
    }
   ],
   "source": [
    "loss, accuracy = model.evaluate(batched_test_data)\n",
    "print(f'Test loss: {loss}')\n",
    "print(f'Test accuracy: {accuracy}')"
   ]
  },
  {
   "attachments": {},
   "cell_type": "markdown",
   "metadata": {},
   "source": [
    "* Test accuracy is around 0.85, which is probably good result. \n",
    "* However, further improvements can be made by hyperparameter tuning or using more sophisticated models (i.e., CNNs)."
   ]
  },
  {
   "attachments": {},
   "cell_type": "markdown",
   "metadata": {},
   "source": [
    "### Test data generation"
   ]
  },
  {
   "cell_type": "code",
   "execution_count": 51,
   "metadata": {},
   "outputs": [],
   "source": [
    "def prepare_gen(img):\n",
    "    result = np.fliplr(img)\n",
    "    result = np.rot90(result, k=1)\n",
    "    return tf.cast(result * 255, tf.uint8)\n",
    "\n",
    "sample = scaled_test_data.shuffle(BUFFER_SIZE)\n",
    "# jpeg entries\n",
    "for value in sample.take(5):\n",
    "    img, label = value[0].numpy(), value[1].numpy()\n",
    "    img = prepare_gen(img)\n",
    "    encoded = tf.image.encode_jpeg(img, quality=100)\n",
    "    tf.io.write_file(f'./test_data/character_{to_chr(label)}.jpg', encoded)\n",
    "\n",
    "# png entries\n",
    "for value in sample.take(5):\n",
    "    img, label = value[0].numpy(), value[1].numpy()\n",
    "    img = prepare_gen(img)\n",
    "    encoded = tf.image.encode_png(img)\n",
    "    tf.io.write_file(f'./test_data/character_{to_chr(label)}.png', encoded)\n",
    "\n",
    "# scaled entries\n",
    "for value in sample.take(5):\n",
    "    img, label = value[0].numpy(), value[1].numpy()\n",
    "    img = prepare_gen(img)\n",
    "    new_size = tf.cast(np.random.uniform(0.5, 3) * 28, tf.int32)\n",
    "    img = tf.image.resize(img, [new_size, new_size])\n",
    "    img = tf.cast(img, tf.uint8)\n",
    "    encoded = tf.image.encode_png(img)\n",
    "    tf.io.write_file(f'./test_data/character_{to_chr(label)}.jpeg', encoded)"
   ]
  }
 ],
 "metadata": {
  "kernelspec": {
   "display_name": "py3tf2",
   "language": "python",
   "name": "python3"
  },
  "language_info": {
   "codemirror_mode": {
    "name": "ipython",
    "version": 3
   },
   "file_extension": ".py",
   "mimetype": "text/x-python",
   "name": "python",
   "nbconvert_exporter": "python",
   "pygments_lexer": "ipython3",
   "version": "3.10.10"
  },
  "orig_nbformat": 4
 },
 "nbformat": 4,
 "nbformat_minor": 2
}
